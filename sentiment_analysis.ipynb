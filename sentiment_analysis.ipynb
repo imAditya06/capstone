{
 "cells": [
  {
   "cell_type": "code",
   "execution_count": 2,
   "id": "1974952b-7d1b-46c1-898d-4e2c95f6d353",
   "metadata": {},
   "outputs": [
    {
     "name": "stdout",
     "output_type": "stream",
     "text": [
      "WARNING:tensorflow:From C:\\Users\\Aditya\\Desktop\\capstone\\venv\\Lib\\site-packages\\tf_keras\\src\\losses.py:2976: The name tf.losses.sparse_softmax_cross_entropy is deprecated. Please use tf.compat.v1.losses.sparse_softmax_cross_entropy instead.\n",
      "\n",
      "25-09-05 13:29:33 - Directory C:\\Users\\Aditya\\.deepface has been created\n",
      "25-09-05 13:29:33 - Directory C:\\Users\\Aditya\\.deepface\\weights has been created\n"
     ]
    }
   ],
   "source": [
    "import cv2\n",
    "from deepface import DeepFace\n",
    "\n",
    "# Load face detector (Haar Cascade)\n",
    "faceCascade = cv2.CascadeClassifier(cv2.data.haarcascades + \"haarcascade_frontalface_default.xml\")\n",
    "\n",
    "# Open webcam\n",
    "cap = cv2.VideoCapture(0)\n",
    "\n",
    "# Check if the webcam opened correctly\n",
    "if not cap.isOpened():\n",
    "    raise IOError(\"Cannot open webcam\")\n",
    "\n",
    "while True:\n",
    "    ret, frame = cap.read()   # read frame from webcam\n",
    "    if not ret:\n",
    "        break\n",
    "\n",
    "    # Analyze emotions\n",
    "    try:\n",
    "        result = DeepFace.analyze(frame, actions=['emotion'], enforce_detection=False)\n",
    "        dominant_emotion = result[0]['dominant_emotion']  # DeepFace returns a list of results\n",
    "    except:\n",
    "        dominant_emotion = \"No Face\"\n",
    "\n",
    "    # Convert to grayscale for face detection\n",
    "    gray = cv2.cvtColor(frame, cv2.COLOR_BGR2GRAY)\n",
    "    faces = faceCascade.detectMultiScale(gray, 1.1, 4)\n",
    "\n",
    "    # Draw rectangle around detected faces\n",
    "    for (x, y, w, h) in faces:\n",
    "        cv2.rectangle(frame, (x, y), (x+w, y+h), (0, 255, 0), 2)\n",
    "\n",
    "    # Add text (emotion) on video\n",
    "    font = cv2.FONT_HERSHEY_SIMPLEX\n",
    "    cv2.putText(frame,\n",
    "                dominant_emotion,\n",
    "                (50, 50),\n",
    "                font,\n",
    "                1,\n",
    "                (0, 0, 255),\n",
    "                2,\n",
    "                cv2.LINE_4)\n",
    "\n",
    "    # Show video\n",
    "    cv2.imshow('Realtime Emotion Recognition', frame)\n",
    "\n",
    "    # Press 'q' to quit\n",
    "    if cv2.waitKey(2) & 0xFF == ord('q'):\n",
    "        break\n",
    "\n",
    "# Release and close\n",
    "cap.release()\n",
    "cv2.destroyAllWindows()\n"
   ]
  },
  {
   "cell_type": "code",
   "execution_count": null,
   "id": "f14f6048-c9f8-49a7-a3af-097278423285",
   "metadata": {},
   "outputs": [],
   "source": []
  }
 ],
 "metadata": {
  "kernelspec": {
   "display_name": "Python (venv)",
   "language": "python",
   "name": "venv"
  },
  "language_info": {
   "codemirror_mode": {
    "name": "ipython",
    "version": 3
   },
   "file_extension": ".py",
   "mimetype": "text/x-python",
   "name": "python",
   "nbconvert_exporter": "python",
   "pygments_lexer": "ipython3",
   "version": "3.12.4"
  }
 },
 "nbformat": 4,
 "nbformat_minor": 5
}
